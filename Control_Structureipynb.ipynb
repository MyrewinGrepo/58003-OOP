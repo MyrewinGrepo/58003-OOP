{
  "nbformat": 4,
  "nbformat_minor": 0,
  "metadata": {
    "colab": {
      "provenance": [],
      "authorship_tag": "ABX9TyNQaw7iK8i+3xk1z0wNCIQU",
      "include_colab_link": true
    },
    "kernelspec": {
      "name": "python3",
      "display_name": "Python 3"
    },
    "language_info": {
      "name": "python"
    }
  },
  "cells": [
    {
      "cell_type": "markdown",
      "metadata": {
        "id": "view-in-github",
        "colab_type": "text"
      },
      "source": [
        "<a href=\"https://colab.research.google.com/github/MyrewinGrepo/58003-OOP/blob/main/Control_Structureipynb.ipynb\" target=\"_parent\"><img src=\"https://colab.research.google.com/assets/colab-badge.svg\" alt=\"Open In Colab\"/></a>"
      ]
    },
    {
      "cell_type": "markdown",
      "source": [
        "If and Elif Condition"
      ],
      "metadata": {
        "id": "Wzi64t7E8qAR"
      }
    },
    {
      "cell_type": "code",
      "execution_count": null,
      "metadata": {
        "colab": {
          "base_uri": "https://localhost:8080/"
        },
        "id": "07XBCL6y8jlm",
        "outputId": "76c9d3db-90ff-4ca1-84dc-13590291d705"
      },
      "outputs": [
        {
          "output_type": "stream",
          "name": "stdout",
          "text": [
            "five is greater than three\n"
          ]
        }
      ],
      "source": [
        "if 5>3:\n",
        "  print(\"five is greater than three\")\n",
        "elif 3<5:\n",
        "  print(\"three is less than  five\")\n"
      ]
    },
    {
      "cell_type": "code",
      "source": [
        "if 5>3:\n",
        "  print(\"five is greater than three\")\n",
        "elif 3<5:\n",
        "  print(\"three is less than  five\")\n",
        "else:\n",
        "  print(\"three is less tahn 5\")"
      ],
      "metadata": {
        "colab": {
          "base_uri": "https://localhost:8080/"
        },
        "id": "EuKQSXMs99dF",
        "outputId": "05ecb6a2-a043-4ee8-f06d-be6eb36df7be"
      },
      "execution_count": null,
      "outputs": [
        {
          "output_type": "stream",
          "name": "stdout",
          "text": [
            "five is greater than three\n"
          ]
        }
      ]
    },
    {
      "cell_type": "markdown",
      "source": [
        "Applcation 1 - create a python programs that will compare if the student it is elementary, secondary and tertiray level"
      ],
      "metadata": {
        "id": "Y-ghd6k5-aCs"
      }
    },
    {
      "cell_type": "code",
      "source": [
        "print(\"the the grade of the student\")\n",
        "print(\"1 -6 = Elementary\")\n",
        "print(\"7 - 12 = Secondary\")\n",
        "print(\"None of the choices above = Tertiary\")\n",
        "\n",
        "x = int(input())\n",
        "if x<=6:\n",
        "  print(\"Elementary\")\n",
        "elif x<=12:\n",
        "  print(\"Secondary\")\n",
        "else:\n",
        "  print(\"Teritary\")"
      ],
      "metadata": {
        "colab": {
          "base_uri": "https://localhost:8080/"
        },
        "id": "MVuHOi4Q-uy0",
        "outputId": "a48e6132-91c8-4862-83da-56fba4ba48f9"
      },
      "execution_count": null,
      "outputs": [
        {
          "output_type": "stream",
          "name": "stdout",
          "text": [
            "the the grade of the student\n",
            "1 -6 = Elementary\n",
            "7 - 12 = Secondary\n",
            "None of the choices above = Tertiary\n",
            "1000\n",
            "Teritary\n"
          ]
        }
      ]
    },
    {
      "cell_type": "markdown",
      "source": [
        "Short Hand if Statement\n"
      ],
      "metadata": {
        "id": "75HwKmB-B2LM"
      }
    },
    {
      "cell_type": "code",
      "source": [
        "a = 2\n",
        "b = 330\n",
        "print(\"A\")if a>b else print(\"B\")\n"
      ],
      "metadata": {
        "colab": {
          "base_uri": "https://localhost:8080/"
        },
        "id": "xCC6AWJmB5fM",
        "outputId": "a8411036-d7ec-43af-ce43-0862db3cebe8"
      },
      "execution_count": null,
      "outputs": [
        {
          "output_type": "stream",
          "name": "stdout",
          "text": [
            "B\n"
          ]
        }
      ]
    },
    {
      "cell_type": "markdown",
      "source": [
        "Short Hand if.... Else Statement"
      ],
      "metadata": {
        "id": "0cXZ0-7MCtMh"
      }
    },
    {
      "cell_type": "code",
      "source": [
        "print(\"a is less than b\") if a<b else print(\"a is greather than b\")"
      ],
      "metadata": {
        "colab": {
          "base_uri": "https://localhost:8080/"
        },
        "id": "_09u4hLoCnNp",
        "outputId": "78745f2a-491a-411b-b2c8-18bc61ab7c50"
      },
      "execution_count": null,
      "outputs": [
        {
          "output_type": "stream",
          "name": "stdout",
          "text": [
            "a is less than b\n"
          ]
        }
      ]
    },
    {
      "cell_type": "markdown",
      "source": [
        "Nested if"
      ],
      "metadata": {
        "id": "EIYOpXt1Dhzi"
      }
    },
    {
      "cell_type": "code",
      "source": [
        "x = 41\n",
        "if x>10:\n",
        "  print(\"Above ten\")\n",
        "  if x>20:\n",
        "    print(\"and also above 20\")\n",
        "    if x>30:\n",
        "      print(\"And Also above 30\")\n",
        "      if x>40:\n",
        "        print(\"And Also above 40\")\n",
        "        if x>50:\n",
        "          print(\"And Also above 50\")\n",
        "        else:\n",
        "          print(\"Below 50\")\n",
        "      else:\n",
        "        print(\"Below 40\")\n",
        "    else:\n",
        "      print(\"Below 30\")\n",
        "  else:\n",
        "   print(\"but not above 20\") "
      ],
      "metadata": {
        "colab": {
          "base_uri": "https://localhost:8080/"
        },
        "id": "D_ukVlW3DuIY",
        "outputId": "6577e35f-7c9f-4246-f6eb-a9b7ebba45fd"
      },
      "execution_count": null,
      "outputs": [
        {
          "output_type": "stream",
          "name": "stdout",
          "text": [
            "Above ten\n",
            "and also above 20\n",
            "And Also above 30\n",
            "And Also above 40\n",
            "Below 50\n"
          ]
        }
      ]
    },
    {
      "cell_type": "code",
      "source": [
        "x = int(input(\"Age of the Voters: \"))\n",
        "if x>=18:\n",
        "  print(\"Qualified\")\n",
        "else:\n",
        "  print(\"Not Qualified\")"
      ],
      "metadata": {
        "colab": {
          "base_uri": "https://localhost:8080/"
        },
        "id": "_jLnAI_hJ1HX",
        "outputId": "f1416d83-834c-406a-8be9-f2b8125f55b5"
      },
      "execution_count": 64,
      "outputs": [
        {
          "output_type": "stream",
          "name": "stdout",
          "text": [
            "Age of the Voters: 100\n",
            "Qualified\n"
          ]
        }
      ]
    },
    {
      "cell_type": "code",
      "source": [
        "x = int(input(\"Enter the Number: \"))\n",
        "if x>=0:\n",
        "  print(\"Positive\")\n",
        "elif x>=0:\n",
        "  print(\"Zero\")\n",
        "elif x<=0:\n",
        "  print(\"Negative\")"
      ],
      "metadata": {
        "id": "N834BeHKKXom",
        "colab": {
          "base_uri": "https://localhost:8080/"
        },
        "outputId": "791dad54-26a6-46a5-d325-26eb5634fa64"
      },
      "execution_count": 73,
      "outputs": [
        {
          "output_type": "stream",
          "name": "stdout",
          "text": [
            "Enter the Number: -80\n",
            "Negative\n"
          ]
        }
      ]
    },
    {
      "cell_type": "code",
      "source": [
        "x = float(input(\"Enter Of The Grade: \"))\n",
        "\n",
        "if x>=70:\n",
        "  print(\"Passed\")\n",
        "elif x>=65:\n",
        "  print(\"Remedial\")\n",
        "else:\n",
        "  print(\"Failed\")"
      ],
      "metadata": {
        "id": "Q5YicP8LIJeX",
        "colab": {
          "base_uri": "https://localhost:8080/"
        },
        "outputId": "aa6b335b-85d8-4e1f-8988-c7a19a326d3a"
      },
      "execution_count": 75,
      "outputs": [
        {
          "output_type": "stream",
          "name": "stdout",
          "text": [
            "Enter Of The Grade: 75.5\n",
            "Passed\n"
          ]
        }
      ]
    }
  ]
}