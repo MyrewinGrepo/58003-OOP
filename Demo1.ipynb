{
  "nbformat": 4,
  "nbformat_minor": 0,
  "metadata": {
    "colab": {
      "provenance": [],
      "authorship_tag": "ABX9TyNAHVc3xKxmjVI0CpCeZocS",
      "include_colab_link": true
    },
    "kernelspec": {
      "name": "python3",
      "display_name": "Python 3"
    },
    "language_info": {
      "name": "python"
    }
  },
  "cells": [
    {
      "cell_type": "markdown",
      "metadata": {
        "id": "view-in-github",
        "colab_type": "text"
      },
      "source": [
        "<a href=\"https://colab.research.google.com/github/MyrewinGrepo/58003-OOP/blob/main/Demo1.ipynb\" target=\"_parent\"><img src=\"https://colab.research.google.com/assets/colab-badge.svg\" alt=\"Open In Colab\"/></a>"
      ]
    },
    {
      "cell_type": "markdown",
      "source": [
        "Introduction to Python Fundamentals\n"
      ],
      "metadata": {
        "id": "wz0e0uedU2vS"
      }
    },
    {
      "cell_type": "code",
      "execution_count": 3,
      "metadata": {
        "colab": {
          "base_uri": "https://localhost:8080/"
        },
        "id": "KKZYp5_NUlyl",
        "outputId": "96fd5256-deb6-421c-9cb4-68a3bd77c599"
      },
      "outputs": [
        {
          "output_type": "stream",
          "name": "stdout",
          "text": [
            "5 is greater than 2\n"
          ]
        }
      ],
      "source": [
        "#python indentation\n",
        "if 5>2:\n",
        "  print(\"5 is greater than 2\")"
      ]
    },
    {
      "cell_type": "code",
      "source": [
        "#declaration of value\n",
        "x = 5\n",
        "y = 2\n",
        "\n",
        "if x>y:\n",
        "  print(\"5 is greater than 2\")\n",
        "  "
      ],
      "metadata": {
        "id": "9_I_L01LU8FC"
      },
      "execution_count": 4,
      "outputs": []
    },
    {
      "cell_type": "code",
      "source": [
        "#python variable\n",
        "a = 0\n",
        "b = -1\n",
        "\n",
        "print(a)"
      ],
      "metadata": {
        "id": "JeqCI5nNVCep"
      },
      "execution_count": null,
      "outputs": []
    },
    {
      "cell_type": "code",
      "source": [
        "#python variable with multiple values\n",
        "a = 0\n",
        "b = -1\n",
        "c = -2\n",
        "print(a)\n",
        "print(b)\n",
        "print(c)"
      ],
      "metadata": {
        "id": "2cztSqtJVfFi"
      },
      "execution_count": null,
      "outputs": []
    },
    {
      "cell_type": "code",
      "source": [
        "a = 1\n",
        "b = 2\n",
        "c = 3\n",
        "print(a)"
      ],
      "metadata": {
        "id": "mE_OfI9DVhHB"
      },
      "execution_count": null,
      "outputs": []
    }
  ]
}