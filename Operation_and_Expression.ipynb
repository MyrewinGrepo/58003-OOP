{
  "nbformat": 4,
  "nbformat_minor": 0,
  "metadata": {
    "colab": {
      "provenance": [],
      "authorship_tag": "ABX9TyOIwniT/OYE+rJ9GIa4yaIj",
      "include_colab_link": true
    },
    "kernelspec": {
      "name": "python3",
      "display_name": "Python 3"
    },
    "language_info": {
      "name": "python"
    }
  },
  "cells": [
    {
      "cell_type": "markdown",
      "metadata": {
        "id": "view-in-github",
        "colab_type": "text"
      },
      "source": [
        "<a href=\"https://colab.research.google.com/github/MyrewinGrepo/58003-OOP/blob/main/Operation_and_Expression.ipynb\" target=\"_parent\"><img src=\"https://colab.research.google.com/assets/colab-badge.svg\" alt=\"Open In Colab\"/></a>"
      ]
    },
    {
      "cell_type": "markdown",
      "source": [
        "Boolean Operators"
      ],
      "metadata": {
        "id": "CoDUlmh-g_ni"
      }
    },
    {
      "cell_type": "code",
      "execution_count": null,
      "metadata": {
        "colab": {
          "base_uri": "https://localhost:8080/"
        },
        "id": "5-y8xUPLg8OH",
        "outputId": "d1130382-57da-4538-a186-6b3d16e0262d"
      },
      "outputs": [
        {
          "output_type": "stream",
          "name": "stdout",
          "text": [
            "True\n",
            "False\n",
            "False\n"
          ]
        }
      ],
      "source": [
        "print(10>9)\n",
        "print(10==9)\n",
        "print(10<9)"
      ]
    },
    {
      "cell_type": "markdown",
      "source": [
        "bool() Function"
      ],
      "metadata": {
        "id": "7E1lvew7ihZ3"
      }
    },
    {
      "cell_type": "code",
      "source": [
        "print(bool(1))\n",
        "print(bool(\"Maria\"))\n",
        "print(bool(-1))\n",
        "print(bool(0))\n",
        "print(bool(None))\n",
        "print(bool([]))"
      ],
      "metadata": {
        "colab": {
          "base_uri": "https://localhost:8080/"
        },
        "id": "699b7E0giIV5",
        "outputId": "d619daf9-4888-4545-e882-e4a3d22be4a3"
      },
      "execution_count": null,
      "outputs": [
        {
          "output_type": "stream",
          "name": "stdout",
          "text": [
            "True\n",
            "True\n",
            "True\n",
            "False\n",
            "False\n",
            "False\n"
          ]
        }
      ]
    },
    {
      "cell_type": "code",
      "source": [
        " w = int(input())"
      ],
      "metadata": {
        "colab": {
          "base_uri": "https://localhost:8080/",
          "height": 183
        },
        "id": "f-7EZ6wmjO4Y",
        "outputId": "eb5841df-555c-4873-a122-4eb6ca5eeb6f"
      },
      "execution_count": null,
      "outputs": [
        {
          "name": "stdout",
          "output_type": "stream",
          "text": [
            "Myrewin\n"
          ]
        },
        {
          "output_type": "error",
          "ename": "ValueError",
          "evalue": "ignored",
          "traceback": [
            "\u001b[0;31m---------------------------------------------------------------------------\u001b[0m",
            "\u001b[0;31mValueError\u001b[0m                                Traceback (most recent call last)",
            "\u001b[0;32m<ipython-input-8-7a986d8aa15c>\u001b[0m in \u001b[0;36m<module>\u001b[0;34m\u001b[0m\n\u001b[0;32m----> 1\u001b[0;31m \u001b[0mw\u001b[0m \u001b[0;34m=\u001b[0m \u001b[0mint\u001b[0m\u001b[0;34m(\u001b[0m\u001b[0minput\u001b[0m\u001b[0;34m(\u001b[0m\u001b[0;34m)\u001b[0m\u001b[0;34m)\u001b[0m\u001b[0;34m\u001b[0m\u001b[0;34m\u001b[0m\u001b[0m\n\u001b[0m",
            "\u001b[0;31mValueError\u001b[0m: invalid literal for int() with base 10: 'Myrewin'"
          ]
        }
      ]
    },
    {
      "cell_type": "code",
      "source": [
        "def myFunction():\n",
        "  return True\n",
        "\n",
        "print (myFunction())"
      ],
      "metadata": {
        "id": "XubiJF3JjnOX",
        "colab": {
          "base_uri": "https://localhost:8080/"
        },
        "outputId": "e42acb84-c110-4799-f9aa-ea408bcfa875"
      },
      "execution_count": null,
      "outputs": [
        {
          "output_type": "stream",
          "name": "stdout",
          "text": [
            "True\n"
          ]
        }
      ]
    },
    {
      "cell_type": "code",
      "source": [
        "print(10+5)\n",
        "print(10-5)\n",
        "print(10*5)\n",
        "print(10/5)\n",
        "print(10%3)"
      ],
      "metadata": {
        "colab": {
          "base_uri": "https://localhost:8080/"
        },
        "id": "wR8eLiz2lB16",
        "outputId": "fcf02641-0aa3-45f9-e027-9d0e9641de06"
      },
      "execution_count": null,
      "outputs": [
        {
          "output_type": "stream",
          "name": "stdout",
          "text": [
            "15\n",
            "5\n",
            "50\n",
            "2.0\n",
            "1\n"
          ]
        }
      ]
    },
    {
      "cell_type": "markdown",
      "source": [
        "Bitwise Operation"
      ],
      "metadata": {
        "id": "uqjODtiTmxFe"
      }
    },
    {
      "cell_type": "code",
      "source": [
        "a = 60\n",
        "b = 13\n",
        "print(a & b)\n",
        "print(a | b)\n",
        "print(a<<1)\n",
        "print(a<<2)"
      ],
      "metadata": {
        "colab": {
          "base_uri": "https://localhost:8080/"
        },
        "id": "QvZpeT1Um2Bt",
        "outputId": "8b45635c-e4e4-457a-d931-642b978d6f24"
      },
      "execution_count": null,
      "outputs": [
        {
          "output_type": "stream",
          "name": "stdout",
          "text": [
            "12\n",
            "61\n",
            "120\n",
            "240\n"
          ]
        }
      ]
    },
    {
      "cell_type": "markdown",
      "source": [
        "Phtyon Assingment operators"
      ],
      "metadata": {
        "id": "ojM05Zj4r9E6"
      }
    },
    {
      "cell_type": "code",
      "source": [
        "x = 6\n",
        "x+=3 #same as x = x + 4\n",
        "          #x = (6) + 3 = 9\n",
        "print(x)"
      ],
      "metadata": {
        "colab": {
          "base_uri": "https://localhost:8080/"
        },
        "id": "wkBV2LrkrXOR",
        "outputId": "e06f11a0-a162-49ce-82f6-a0d35c2157c2"
      },
      "execution_count": null,
      "outputs": [
        {
          "output_type": "stream",
          "name": "stdout",
          "text": [
            "9\n"
          ]
        }
      ]
    },
    {
      "cell_type": "markdown",
      "source": [
        "Logical Operators"
      ],
      "metadata": {
        "id": "q0dw5THysBQq"
      }
    },
    {
      "cell_type": "code",
      "source": [
        "t = True\n",
        "s = False\n",
        "\n",
        "print(t and s)\n",
        "print(t or s)\n",
        "print(not (t or s)) # not(True) = False "
      ],
      "metadata": {
        "colab": {
          "base_uri": "https://localhost:8080/"
        },
        "id": "qUgPD9ndsEto",
        "outputId": "eacdb6c7-7847-41b9-8a0e-12cad563f326"
      },
      "execution_count": null,
      "outputs": [
        {
          "output_type": "stream",
          "name": "stdout",
          "text": [
            "False\n",
            "True\n",
            "False\n"
          ]
        }
      ]
    },
    {
      "cell_type": "markdown",
      "source": [
        "Identity Operators"
      ],
      "metadata": {
        "id": "-RxGmFk8ssYS"
      }
    },
    {
      "cell_type": "code",
      "source": [
        "#is is not\n",
        "t = True\n",
        "s = False\n",
        "\n",
        "print(t is t)\n",
        "print(t is s)\n",
        "print(t is not s)\n"
      ],
      "metadata": {
        "colab": {
          "base_uri": "https://localhost:8080/"
        },
        "id": "v2SnKeiCsbDh",
        "outputId": "ddf7ffb7-8cf7-4271-edf7-593691934955"
      },
      "execution_count": null,
      "outputs": [
        {
          "output_type": "stream",
          "name": "stdout",
          "text": [
            "True\n",
            "False\n",
            "True\n"
          ]
        }
      ]
    },
    {
      "cell_type": "markdown",
      "source": [
        "Application ! Create a Stadard Calculator (MDAS)"
      ],
      "metadata": {
        "id": "99wYoZiItRXL"
      }
    },
    {
      "cell_type": "code",
      "source": [
        "a=int(input(\"1-Additon\\n2-Subtraction\\n3-Division\\n4-Mutiplication\\n\"))\n",
        "x = int(input())\n",
        "y = int(input())\n",
        "if (a==1):\n",
        "  print(x+y)\n",
        "elif (a==2):\n",
        "  print(x-y)\n",
        "elif (a==3):\n",
        "  print(x/y)\n",
        "elif (a==4):\n",
        "  print (x*y)"
      ],
      "metadata": {
        "id": "uXhX5yPbtqjY"
      },
      "execution_count": null,
      "outputs": []
    },
    {
      "cell_type": "code",
      "source": [],
      "metadata": {
        "id": "38ZAbxClzqid"
      },
      "execution_count": null,
      "outputs": []
    }
  ]
}