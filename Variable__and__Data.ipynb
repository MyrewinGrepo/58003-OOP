{
  "nbformat": 4,
  "nbformat_minor": 0,
  "metadata": {
    "colab": {
      "provenance": [],
      "authorship_tag": "ABX9TyNV0sBMQ65H0bYappj+IemF",
      "include_colab_link": true
    },
    "kernelspec": {
      "name": "python3",
      "display_name": "Python 3"
    },
    "language_info": {
      "name": "python"
    }
  },
  "cells": [
    {
      "cell_type": "markdown",
      "metadata": {
        "id": "view-in-github",
        "colab_type": "text"
      },
      "source": [
        "<a href=\"https://colab.research.google.com/github/MyrewinGrepo/58003-OOP/blob/main/Variable__and__Data.ipynb\" target=\"_parent\"><img src=\"https://colab.research.google.com/assets/colab-badge.svg\" alt=\"Open In Colab\"/></a>"
      ]
    },
    {
      "cell_type": "code",
      "execution_count": 54,
      "metadata": {
        "id": "m6cPEeWJBSBo",
        "colab": {
          "base_uri": "https://localhost:8080/"
        },
        "outputId": "7f828789-1419-41af-f52b-bae55eb9ef29"
      },
      "outputs": [
        {
          "output_type": "stream",
          "name": "stdout",
          "text": [
            "['abc', 1]\n",
            "['abc', 1, 2]\n"
          ]
        }
      ],
      "source": [
        "fruits = ['abc',1]\n",
        "\n",
        "print(fruits)\n",
        "fruits.insert(2,2)\n",
        "print(fruits)"
      ]
    },
    {
      "cell_type": "code",
      "source": [
        "class Person:\n",
        "  def __init__(self,name,age):\n",
        "    self.name = name\n",
        "    self.age = age\n",
        "\n",
        "student = Person(\"ana\",20)\n",
        "Teacher = Person(\"maam sayo\", 20)\n",
        "print(student.name)\n",
        "print(student.age)\n",
        "\n",
        "print(Teacher.name)\n",
        "print(Teacher.age)"
      ],
      "metadata": {
        "colab": {
          "base_uri": "https://localhost:8080/"
        },
        "id": "9qkHzE1VCVTK",
        "outputId": "fbc5baf9-b3eb-4743-8601-9c93e914a70c"
      },
      "execution_count": 55,
      "outputs": [
        {
          "output_type": "stream",
          "name": "stdout",
          "text": [
            "ana\n",
            "20\n",
            "maam sayo\n",
            "20\n"
          ]
        }
      ]
    },
    {
      "cell_type": "code",
      "source": [
        "class Shapes:\n",
        "  def __init__(self,length,width):\n",
        "    self.length = length\n",
        "    self.width = width\n",
        "\n",
        "  def area(self):\n",
        "   return self.length*self.width\n",
        "\n",
        "rectangle = Shapes(5,5)\n",
        "rectangle.area()"
      ],
      "metadata": {
        "colab": {
          "base_uri": "https://localhost:8080/"
        },
        "id": "Y6No9akXCcOi",
        "outputId": "7888db5c-c6e5-4326-c3a6-61f45d6df5fa"
      },
      "execution_count": 56,
      "outputs": [
        {
          "output_type": "execute_result",
          "data": {
            "text/plain": [
              "25"
            ]
          },
          "metadata": {},
          "execution_count": 56
        }
      ]
    },
    {
      "cell_type": "code",
      "source": [
        "pi = 3.14159\n",
        "varList =  [1,2,\"A\",\"B\",\"Hello\",pi]\n",
        "print(varList[0])\n",
        "print(varList[4])\n"
      ],
      "metadata": {
        "colab": {
          "base_uri": "https://localhost:8080/"
        },
        "id": "M68VvCPuIc7k",
        "outputId": "c1a5e6d7-9c5b-4843-bb84-e1d60ba07307"
      },
      "execution_count": 57,
      "outputs": [
        {
          "output_type": "stream",
          "name": "stdout",
          "text": [
            "1\n",
            "Hello\n"
          ]
        }
      ]
    },
    {
      "cell_type": "code",
      "source": [
        "varList.append(5)\n",
        "print(varList)"
      ],
      "metadata": {
        "colab": {
          "base_uri": "https://localhost:8080/"
        },
        "id": "ZQwkaB8TJ6tt",
        "outputId": "6e686ea2-bf98-49b3-91c8-f1b6fbafe253"
      },
      "execution_count": 58,
      "outputs": [
        {
          "output_type": "stream",
          "name": "stdout",
          "text": [
            "[1, 2, 'A', 'B', 'Hello', 3.14159, 5]\n"
          ]
        }
      ]
    },
    {
      "cell_type": "code",
      "source": [
        "varList.remove(5)\n",
        "print(varList)"
      ],
      "metadata": {
        "colab": {
          "base_uri": "https://localhost:8080/"
        },
        "id": "txqhrobULhLc",
        "outputId": "48f57695-7971-4831-9f6d-0906fa03f855"
      },
      "execution_count": 59,
      "outputs": [
        {
          "output_type": "stream",
          "name": "stdout",
          "text": [
            "[1, 2, 'A', 'B', 'Hello', 3.14159]\n"
          ]
        }
      ]
    },
    {
      "cell_type": "code",
      "source": [
        "var =\"Hello World!\"\n",
        "varDict = {'first' : 123, 2 : 'abc', '3' : var, 4: ['lista','listb']}\n",
        "           \n",
        "print( varDict['first'])\n",
        "print( varDict['3'])\n",
        "print( varDict[4])\n",
        "print( varDict)"
      ],
      "metadata": {
        "colab": {
          "base_uri": "https://localhost:8080/"
        },
        "id": "RgnE47zLLrp1",
        "outputId": "e7f5dca5-106c-47e5-f69b-2c629d5b6db7"
      },
      "execution_count": 64,
      "outputs": [
        {
          "output_type": "stream",
          "name": "stdout",
          "text": [
            "123\n",
            "Hello World!\n",
            "['lista', 'listb']\n",
            "{'first': 123, 2: 'abc', '3': 'Hello World!', 4: ['lista', 'listb']}\n"
          ]
        }
      ]
    },
    {
      "cell_type": "code",
      "source": [
        "varList = [1,2,3,4,5,6,7,8,9,10]\n",
        "print(varList[5:])\n",
        "print(varList[:6])\n",
        "print(varList[1:10:2])\n"
      ],
      "metadata": {
        "colab": {
          "base_uri": "https://localhost:8080/"
        },
        "id": "B_fdgcuYM_p4",
        "outputId": "3466caec-0199-4e47-da41-6504bce2ed2a"
      },
      "execution_count": 71,
      "outputs": [
        {
          "output_type": "stream",
          "name": "stdout",
          "text": [
            "[6, 7, 8, 9, 10]\n",
            "[1, 2, 3, 4, 5, 6]\n",
            "[2, 4, 6, 8, 10]\n"
          ]
        }
      ]
    },
    {
      "cell_type": "code",
      "source": [
        "print(varList[:2])\n",
        "print(varList[:-8])\n",
        "print(varList[:+2])"
      ],
      "metadata": {
        "colab": {
          "base_uri": "https://localhost:8080/"
        },
        "id": "tFoWppg0Ob6X",
        "outputId": "828af3a1-e40e-4157-e116-149d92ad1e27"
      },
      "execution_count": 73,
      "outputs": [
        {
          "output_type": "stream",
          "name": "stdout",
          "text": [
            "[1, 2]\n",
            "[1, 2]\n",
            "[1, 2]\n"
          ]
        }
      ]
    }
  ]
}