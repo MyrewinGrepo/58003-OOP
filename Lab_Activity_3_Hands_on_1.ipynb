{
  "nbformat": 4,
  "nbformat_minor": 0,
  "metadata": {
    "colab": {
      "provenance": [],
      "authorship_tag": "ABX9TyOyyzqv4Qoz4JVdWx3jKZSf",
      "include_colab_link": true
    },
    "kernelspec": {
      "name": "python3",
      "display_name": "Python 3"
    },
    "language_info": {
      "name": "python"
    }
  },
  "cells": [
    {
      "cell_type": "markdown",
      "metadata": {
        "id": "view-in-github",
        "colab_type": "text"
      },
      "source": [
        "<a href=\"https://colab.research.google.com/github/MyrewinGrepo/58003-OOP/blob/main/Lab_Activity_3_Hands_on_1.ipynb\" target=\"_parent\"><img src=\"https://colab.research.google.com/assets/colab-badge.svg\" alt=\"Open In Colab\"/></a>"
      ]
    },
    {
      "cell_type": "code",
      "source": [],
      "metadata": {
        "id": "V78Z-gVmf9hu"
      },
      "execution_count": null,
      "outputs": []
    },
    {
      "cell_type": "code",
      "execution_count": null,
      "metadata": {
        "colab": {
          "base_uri": "https://localhost:8080/"
        },
        "id": "831hnge_RlRd",
        "outputId": "66d325ff-1ddb-4ea2-a1b8-bf298cbc380f"
      },
      "outputs": [
        {
          "output_type": "stream",
          "name": "stdout",
          "text": [
            "Student 1\n",
            "Prelims: 98\n",
            "Midterms: 96\n",
            "Finals: 97\n",
            "Average: 97.0\n",
            "---------------------\n",
            "Student 2\n",
            "Prelims: 96\n",
            "Midterms: 97\n",
            "Finals: 99\n",
            "Average: 97.33333333333333\n",
            "---------------------\n",
            "Student 3\n",
            "Prelims: 96\n",
            "Midterms: 98\n",
            "Finals: 97\n",
            "Average: 97.0\n",
            "---------------------\n"
          ]
        }
      ],
      "source": [
        "class Person:\n",
        "  def __init__(self,name):\n",
        "    self.name = name\n",
        "\n",
        "student = Person(\"Student 1\")\n",
        "print(student.name)\n",
        "prelims = float(input(\"Prelims: \"))\n",
        "midterms= float(input(\"Midterms: \"))\n",
        "finals = float(input(\"Finals: \"))\n",
        "sum = prelims+midterms+finals\n",
        "AVG = sum/3\n",
        "print(\"Average:\", AVG)\n",
        "print(\"---------------------\")\n",
        "\n",
        "class Person:\n",
        "  def __init__(self,name):\n",
        "    self.name = name\n",
        "\n",
        "student = Person(\"Student 2\")\n",
        "print(student.name)\n",
        "prelims = float(input(\"Prelims: \"))\n",
        "midterms= float(input(\"Midterms: \"))\n",
        "finals = float(input(\"Finals: \"))\n",
        "sum = prelims+midterms+finals\n",
        "AVG = sum/3\n",
        "print(\"Average:\", AVG)\n",
        "print(\"---------------------\")\n",
        "\n",
        "class Person:\n",
        "  def __init__(self,name):\n",
        "    self.name = name\n",
        "\n",
        "student = Person(\"Student 3\")\n",
        "print(student.name)\n",
        "prelims = float(input(\"Prelims: \"))\n",
        "midterms= float(input(\"Midterms: \"))\n",
        "finals = float(input(\"Finals: \"))\n",
        "sum = prelims+midterms+finals\n",
        "AVG = sum/3\n",
        "print(\"Average:\", AVG)\n",
        "print(\"---------------------\")"
      ]
    }
  ]
}