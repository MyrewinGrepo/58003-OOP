{
  "nbformat": 4,
  "nbformat_minor": 0,
  "metadata": {
    "colab": {
      "provenance": [],
      "authorship_tag": "ABX9TyO5Fb5ZJrKq6YEkbJzWvCNt",
      "include_colab_link": true
    },
    "kernelspec": {
      "name": "python3",
      "display_name": "Python 3"
    },
    "language_info": {
      "name": "python"
    }
  },
  "cells": [
    {
      "cell_type": "markdown",
      "metadata": {
        "id": "view-in-github",
        "colab_type": "text"
      },
      "source": [
        "<a href=\"https://colab.research.google.com/github/MyrewinGrepo/58003-OOP/blob/main/Phyton%20Fundamentals.ipynb\" target=\"_parent\"><img src=\"https://colab.research.google.com/assets/colab-badge.svg\" alt=\"Open In Colab\"/></a>"
      ]
    },
    {
      "cell_type": "markdown",
      "source": [
        "Introduction to Python Fundamentals\n"
      ],
      "metadata": {
        "id": "wz0e0uedU2vS"
      }
    },
    {
      "cell_type": "code",
      "execution_count": null,
      "metadata": {
        "colab": {
          "base_uri": "https://localhost:8080/"
        },
        "id": "KKZYp5_NUlyl",
        "outputId": "96fd5256-deb6-421c-9cb4-68a3bd77c599"
      },
      "outputs": [
        {
          "output_type": "stream",
          "name": "stdout",
          "text": [
            "5 is greater than 2\n"
          ]
        }
      ],
      "source": [
        "#python indentation\n",
        "if 5>2:\n",
        "  print(\"5 is greater than 2\")"
      ]
    },
    {
      "cell_type": "code",
      "source": [
        "#declaration of value\n",
        "x = 5\n",
        "y = 2\n",
        "\n",
        "if x>y:\n",
        "  print(\"5 is greater than 2\")\n",
        "  "
      ],
      "metadata": {
        "id": "9_I_L01LU8FC"
      },
      "execution_count": null,
      "outputs": []
    },
    {
      "cell_type": "code",
      "source": [
        "#python variable\n",
        "a = 0\n",
        "b = -1\n",
        "\n",
        "print(a)"
      ],
      "metadata": {
        "id": "JeqCI5nNVCep"
      },
      "execution_count": null,
      "outputs": []
    },
    {
      "cell_type": "code",
      "source": [
        "#python variable with multiple values\n",
        "a = 0\n",
        "b = -1\n",
        "c = -2\n",
        "print(a)\n",
        "print(b)\n",
        "print(c)"
      ],
      "metadata": {
        "id": "2cztSqtJVfFi"
      },
      "execution_count": null,
      "outputs": []
    },
    {
      "cell_type": "code",
      "source": [
        "a = 1\n",
        "b = 2\n",
        "c = 3\n",
        "print(a)"
      ],
      "metadata": {
        "id": "mE_OfI9DVhHB"
      },
      "execution_count": null,
      "outputs": []
    },
    {
      "cell_type": "markdown",
      "source": [
        "Casting"
      ],
      "metadata": {
        "id": "U7LZwknycwuC"
      }
    },
    {
      "cell_type": "code",
      "source": [
        "a = \"Sally\"\n",
        "b = int(4)\n",
        "print(b)\n",
        "b =  float(4)\n",
        "print(b)"
      ],
      "metadata": {
        "id": "1i5_-X3Zcsjb",
        "outputId": "8baecb2f-b9fa-42fb-9670-d74dcc2b0be9",
        "colab": {
          "base_uri": "https://localhost:8080/"
        }
      },
      "execution_count": 6,
      "outputs": [
        {
          "output_type": "stream",
          "name": "stdout",
          "text": [
            "4\n",
            "4.0\n"
          ]
        }
      ]
    },
    {
      "cell_type": "markdown",
      "source": [
        "Type() Function"
      ],
      "metadata": {
        "id": "Djlvr6iNdGzS"
      }
    },
    {
      "cell_type": "code",
      "source": [
        "a = \"Sally\"\n",
        "print(type(a))"
      ],
      "metadata": {
        "id": "B4YeLyUxdLas",
        "outputId": "7c8e9181-dc74-4ac4-f7c3-1e39b8abeb04",
        "colab": {
          "base_uri": "https://localhost:8080/"
        }
      },
      "execution_count": 7,
      "outputs": [
        {
          "output_type": "stream",
          "name": "stdout",
          "text": [
            "<class 'str'>\n"
          ]
        }
      ]
    },
    {
      "cell_type": "markdown",
      "source": [
        "Double or Single Quotes"
      ],
      "metadata": {
        "id": "BKBf9UwEd_fy"
      }
    },
    {
      "cell_type": "code",
      "source": [
        "Y = \"John\"\n",
        "y = 'John'\n",
        "print(y)"
      ],
      "metadata": {
        "id": "msGYBnIVd81y",
        "outputId": "65596eab-6f39-4b9b-c5b4-145e7fa37399",
        "colab": {
          "base_uri": "https://localhost:8080/"
        }
      },
      "execution_count": 8,
      "outputs": [
        {
          "output_type": "stream",
          "name": "stdout",
          "text": [
            "John\n"
          ]
        }
      ]
    },
    {
      "cell_type": "code",
      "source": [
        "a = \"Mariah\"\n",
        "print(a)"
      ],
      "metadata": {
        "id": "AixGjSG7efo3",
        "outputId": "23ad2d4e-8052-448e-be0f-aa4980362f36",
        "colab": {
          "base_uri": "https://localhost:8080/"
        }
      },
      "execution_count": 9,
      "outputs": [
        {
          "output_type": "stream",
          "name": "stdout",
          "text": [
            "Mariah\n"
          ]
        }
      ]
    },
    {
      "cell_type": "code",
      "source": [
        "print(y)"
      ],
      "metadata": {
        "id": "d2VSNUiBe08m",
        "outputId": "26b4739d-e5e1-4e40-cac5-2877e906cfa9",
        "colab": {
          "base_uri": "https://localhost:8080/"
        }
      },
      "execution_count": 10,
      "outputs": [
        {
          "output_type": "stream",
          "name": "stdout",
          "text": [
            "John\n"
          ]
        }
      ]
    },
    {
      "cell_type": "markdown",
      "source": [
        "Concatenation\n"
      ],
      "metadata": {
        "id": "v2wfMT2Be_0F"
      }
    },
    {
      "cell_type": "code",
      "source": [
        "k = \"Phyton is\"\n",
        "l = \" enjoying\"\n",
        "print(k+l)"
      ],
      "metadata": {
        "id": "SOcBL0XGfJqP",
        "outputId": "504b0820-28eb-4555-b4c7-dfe5d779b0b0",
        "colab": {
          "base_uri": "https://localhost:8080/"
        }
      },
      "execution_count": 12,
      "outputs": [
        {
          "output_type": "stream",
          "name": "stdout",
          "text": [
            "Phyton is enjoying\n"
          ]
        }
      ]
    },
    {
      "cell_type": "code",
      "source": [
        "l = \"enjoying\"\n",
        "print(\"Phyton is \" + l)"
      ],
      "metadata": {
        "id": "Snq-Pu4afkWO",
        "outputId": "374d0390-5192-46a7-d532-8720b50c12ce",
        "colab": {
          "base_uri": "https://localhost:8080/"
        }
      },
      "execution_count": 14,
      "outputs": [
        {
          "output_type": "stream",
          "name": "stdout",
          "text": [
            "Phyton is enjoying\n"
          ]
        }
      ]
    }
  ]
}