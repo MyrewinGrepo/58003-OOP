{
  "nbformat": 4,
  "nbformat_minor": 0,
  "metadata": {
    "colab": {
      "provenance": [],
      "authorship_tag": "ABX9TyNp8nXqv2qGt2i6qCNQxZlv",
      "include_colab_link": true
    },
    "kernelspec": {
      "name": "python3",
      "display_name": "Python 3"
    },
    "language_info": {
      "name": "python"
    }
  },
  "cells": [
    {
      "cell_type": "markdown",
      "metadata": {
        "id": "view-in-github",
        "colab_type": "text"
      },
      "source": [
        "<a href=\"https://colab.research.google.com/github/MyrewinGrepo/58003-OOP/blob/main/LAB2.ipynb\" target=\"_parent\"><img src=\"https://colab.research.google.com/assets/colab-badge.svg\" alt=\"Open In Colab\"/></a>"
      ]
    },
    {
      "cell_type": "code",
      "source": [
        "import math\n",
        "from  math import pi"
      ],
      "metadata": {
        "id": "lye88dhkJE8g"
      },
      "execution_count": 5,
      "outputs": []
    },
    {
      "cell_type": "code",
      "execution_count": 6,
      "metadata": {
        "colab": {
          "base_uri": "https://localhost:8080/"
        },
        "id": "cBUFSs2iI8yk",
        "outputId": "216cbba0-fe5c-46c1-8344-07df869f2555"
      },
      "outputs": [
        {
          "output_type": "stream",
          "name": "stdout",
          "text": [
            "Enter the radius of the circle:6\n",
            "The area of the circle is:  113.09733552923255\n",
            "The perimeter of the circle is:  37.69911184307752\n"
          ]
        }
      ],
      "source": [
        "class Circle():\n",
        "  def radius(self,radius):\n",
        "    r = radius\n",
        "\n",
        "  def area(self,r):\n",
        "    area = pi*r*r\n",
        "    print(\"The area of the circle is: \",area)\n",
        "\n",
        "  def perimeter(self,r):\n",
        "    perimeter = 2*pi*r\n",
        "    print(\"The perimeter of the circle is: \",perimeter)\n",
        "\n",
        "NewCircle = Circle()\n",
        "radius = int(input(\"Enter the radius of the circle:\"))\n",
        "NewCircle.area(radius)\n",
        "NewCircle.perimeter(radius)"
      ]
    }
  ]
}